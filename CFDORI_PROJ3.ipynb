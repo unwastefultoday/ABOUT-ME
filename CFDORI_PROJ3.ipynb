{
  "cells": [
    {
      "cell_type": "markdown",
      "metadata": {
        "id": "view-in-github",
        "colab_type": "text"
      },
      "source": [
        "<a href=\"https://colab.research.google.com/github/unwastefultoday/ABOUT-ME/blob/main/CFDORI_PROJ3.ipynb\" target=\"_parent\"><img src=\"https://colab.research.google.com/assets/colab-badge.svg\" alt=\"Open In Colab\"/></a>"
      ]
    },
    {
      "cell_type": "code",
      "execution_count": 5,
      "metadata": {
        "id": "QR8y6nVN3_fk",
        "colab": {
          "base_uri": "https://localhost:8080/"
        },
        "outputId": "b8aaa241-3e8a-4a00-8ebe-c181553b7efe"
      },
      "outputs": [
        {
          "name": "stdout",
          "output_type": "stream",
          "text": [
            "Enter the number you wish to print the multiplication table of: 2\n",
            "Enter the number you wish to print the multiplication table till: 10\n"
          ]
        }
      ],
      "source": [
        "\n",
        "num = int(input(\"Enter the number you wish to print the multiplication table of: \"))\n",
        "lim = int(input(\"Enter the number you wish to print the multiplication table till: \"))"
      ]
    },
    {
      "cell_type": "code",
      "execution_count": 6,
      "metadata": {
        "id": "YDbhfzuV4DRM"
      },
      "outputs": [],
      "source": [
        "def multiplication_table(num,lim):\n",
        "  i=0\n",
        "  print(\"---------------\")\n",
        "  while (i<=lim):\n",
        "      result = num * i   \n",
        "      print(str(num) + \" \" + \" X \" + \" \" + str(i) + \" \" + \"=\" + \" \" + str(result))\n",
        "      i = i+1     \n",
        "  print(\"---------------\")"
      ]
    },
    {
      "cell_type": "code",
      "source": [
        "multiplication_table(num,lim)"
      ],
      "metadata": {
        "colab": {
          "base_uri": "https://localhost:8080/"
        },
        "id": "Kxqa3bxomIT0",
        "outputId": "b7b3185d-0900-45b7-c64d-aeac65c91360"
      },
      "execution_count": 7,
      "outputs": [
        {
          "output_type": "stream",
          "name": "stdout",
          "text": [
            "---------------\n",
            "2  X  0 = 0\n",
            "2  X  1 = 2\n",
            "2  X  2 = 4\n",
            "2  X  3 = 6\n",
            "2  X  4 = 8\n",
            "2  X  5 = 10\n",
            "2  X  6 = 12\n",
            "2  X  7 = 14\n",
            "2  X  8 = 16\n",
            "2  X  9 = 18\n",
            "2  X  10 = 20\n",
            "---------------\n"
          ]
        }
      ]
    }
  ],
  "metadata": {
    "colab": {
      "name": "CFDORI-PROJ3.ipynb",
      "provenance": [],
      "collapsed_sections": [],
      "authorship_tag": "ABX9TyPkSu0jkn6MhGurHd1mMRTM",
      "include_colab_link": true
    },
    "kernelspec": {
      "display_name": "Python 3",
      "name": "python3"
    },
    "language_info": {
      "name": "python"
    }
  },
  "nbformat": 4,
  "nbformat_minor": 0
}