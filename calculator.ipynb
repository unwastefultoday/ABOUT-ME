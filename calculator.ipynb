{
  "nbformat": 4,
  "nbformat_minor": 0,
  "metadata": {
    "colab": {
      "name": "calculator.ipynb",
      "provenance": [],
      "authorship_tag": "ABX9TyMbeUrJ59/H4cCgoPmxxhvr",
      "include_colab_link": true
    },
    "kernelspec": {
      "name": "python3",
      "display_name": "Python 3"
    },
    "language_info": {
      "name": "python"
    }
  },
  "cells": [
    {
      "cell_type": "markdown",
      "metadata": {
        "id": "view-in-github",
        "colab_type": "text"
      },
      "source": [
        "<a href=\"https://colab.research.google.com/github/unwastefultoday/ABOUT-ME/blob/main/calculator.ipynb\" target=\"_parent\"><img src=\"https://colab.research.google.com/assets/colab-badge.svg\" alt=\"Open In Colab\"/></a>"
      ]
    },
    {
      "cell_type": "code",
      "execution_count": null,
      "metadata": {
        "id": "zKHD_kQr3N5A"
      },
      "outputs": [],
      "source": [
        "def add(num1,num2):\n",
        "  print(\"Sum of {num1} and {num2} is:  \".format(num1=num1,num2=num2),num1+num2)\n",
        "\n",
        "def subtract(num1,num2):\n",
        "  print(\"Difference of {num1} and {num2} is:  \".format(num1=num1,num2=num2),num1-num2)\n",
        "\n",
        "def product(num1,num2):\n",
        "  print(\"Product of {num1} and {num2} is:  \".format(num1=num1,num2=num2),num1*num2)\n",
        "\n",
        "def division(num1,num2):\n",
        "  print(\"Division of {num1} and {num2} is:  \".format(num1=num1,num2=num2),num1/num2)\n",
        "\n",
        "def modulus(num1,num2):\n",
        "  print(\"Remainder of division of {num1} and {num2} is:  \".format(num1=num1,num2=num2),num1%num2)\n",
        "\n",
        "def floor(num1,num2):\n",
        "  print(\"Floor value division of {num1} and {num2} is:  \".format(num1=num1,num2=num2),num1//num2)\n",
        "\n",
        "def floor(num1,num2):\n",
        "  print(\"Power of {num1} and {num2} is:  \".format(num1=num1,num2=num2),num1**num2)"
      ]
    },
    {
      "cell_type": "code",
      "source": [
        "choice = int(input(\"Enter s. no of required operation: \"))\n",
        "num1 = int(input(\"Enter first number: \"))\n",
        "num1 = int(input(\"Enter second number: \"))\n",
        "if choice==1:\n",
        "  add(num1,num2)\n",
        "elif choice == 2:\n",
        "  subtract(num1,num2)\n",
        "elif choice ==3:\n",
        "  product(num1,num2)\n",
        "elif choice==4:\n",
        "  division(num1,num2)\n",
        "elif choice==5:\n",
        "  modulus(num1,num2)\n",
        "elif choice==6:\n",
        "  floor(num1,num2)\n",
        "elif choice==7:\n",
        "  power(num1,num2)\n",
        "else:\n",
        "  print(\"Enter a proper s.no\")\n",
        "\n",
        "\n"
      ],
      "metadata": {
        "id": "AEW-7RfOOzWW"
      },
      "execution_count": null,
      "outputs": []
    }
  ]
}